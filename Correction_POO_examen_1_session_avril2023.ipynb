{
  "cells": [
    {
      "cell_type": "markdown",
      "metadata": {
        "id": "view-in-github",
        "colab_type": "text"
      },
      "source": [
        "<a href=\"https://colab.research.google.com/github/sojldatascientist/ECS/blob/master/Correction_POO_examen_1_session_avril2023.ipynb\" target=\"_parent\"><img src=\"https://colab.research.google.com/assets/colab-badge.svg\" alt=\"Open In Colab\"/></a>"
      ]
    },
    {
      "cell_type": "code",
      "execution_count": 1,
      "metadata": {
        "id": "RO5Tjm1YicpT"
      },
      "outputs": [],
      "source": [
        "from typing import List\n",
        "\n",
        "class Maliste(list):\n",
        "    \"\"\"La classe Maliste qui hérite de List\"\"\"\n",
        "    def __init__(self, liste: List[int]):\n",
        "        super().__init__(liste)\n",
        "        #print(\"liste crée\")\n",
        "    def inscrire(self,elt):           # place par défaut un nouvel élément en fin de liste\n",
        "        return self.append(elt)\n",
        "    def extraire(self, indice = 0) :  # renvoie par défaut le premier élément supprimé de la liste\n",
        "        return self.pop(indice) if len(self) > 0 else self\n",
        "    def lire(self):                    # renvoie le premier élément de la liste\n",
        "        return self[0] if len(self) > 0 else self"
      ]
    },
    {
      "cell_type": "code",
      "execution_count": 2,
      "metadata": {
        "id": "rOjljFo3vulD"
      },
      "outputs": [],
      "source": [
        "class MaListe_Ext (Maliste):\n",
        "  \"\"\"La classe Maliste qui hérite de Malist\"\"\"\n",
        "  def __init__(self, *liste : List[Maliste]):\n",
        "        super().__init__(liste)\n",
        "  def estEcrasante(self):\n",
        "    if len(self) == 2 :                              # teste si la longueur vaut 2\n",
        "      if (len(self[0]) == 0) or (len(self[1]) == 0): # teste maintenant si au moins un élément de la liste est vide\n",
        "          return False\n",
        "      else :\n",
        "        return True                                  # si aucun elt de la liste n'est vide\n",
        "    elif len(self) == 1 :                            # teste si la longueur vaut 1\n",
        "      if len(self[0]) >= 1 :                         # teste maintenant si cet élément de la liste n'est pas vide\n",
        "        return True\n",
        "      else :\n",
        "        return False\n",
        "    elif len(self) > 2 :                             # un élement de la liste ne doit pas contenir plus de 2 élements\n",
        "      return False\n",
        "\n",
        "  def f1(self):\n",
        "      \"\"\" self est un élément de longueur 1 qui est un objet de type Maliste_Ext.\n",
        "      La fonction f1 permet de recupérer le dernier élement de self.\n",
        "      Si self = MaListe_Ext(  Maliste([3, 8, 12, 8]) ) alors f1(sel) --> 8 .\n",
        "      self contient un seul élément qui est une liste, c'est à dire :\n",
        "      self[0] --> [3, 8, 12, 8]\n",
        "\n",
        "      Exemple : Retester dans une cellule  : d = MaListe_Ext(  Maliste([3, 8, 12, 8]) ) ; d.f1()\n",
        "      \"\"\"\n",
        "      return self[0][-1]\n",
        "\n",
        "  def f2(self,i):\n",
        "      \"\"\" self est un élément de longueur 2 qui est un objet de type Maliste_Ext.\n",
        "      La fonction f2 permet de recupérer le dernier élement du 1er ou du 2e élement de self.\n",
        "      Si self = MaListe_Ext(  Maliste([3, 8, 12, 8]), Maliste([4, 1, 3, 5]) )  alors f2(self,0) --> 8 et\n",
        "      f2(self,1) --> 5.\n",
        "      self contient deux éléments qui sont des listes, c'est à dire :\n",
        "      self[0] --> [3, 8, 12, 8] et self[1] --> [4, 1, 3, 5]\n",
        "\n",
        "      Exemple : Retester dans une cellule  : d = MaListe_Ext(  Maliste([3, 8, 12, 8]), Maliste([4, 1, 3, 5]) )\n",
        "       d.f2(0);d.f2(1), d[0], d[1]\n",
        "      \"\"\"\n",
        "      return self[i][-1]\n",
        "\n",
        "\n",
        "  def estEcrasanteMajoritaire(self,listeObj ):\n",
        "        \"\"\"Comparaison entre self et listeObj\"\"\"\n",
        "        if self.estEcrasante() and listeObj.estEcrasante()  : # Teste si les éléments sont des listes ou objets écrasants\n",
        "          if  len(self) == 2 and len(listeObj) == 2 :         # Deux éléments dans chacun des objets self et listeObj\n",
        "            if (self.f2(0) >= listeObj.f2(0) ) and  (self.f2(1) >= listeObj.f2(1))  : # Teste si self Est Particulier, Ecrasant et Majoritaire sinon\n",
        "              return True\n",
        "            else :\n",
        "              return False\n",
        "          elif len(self) == 2 and len(listeObj) == 1 : # Les longueurs respectives 2 et 1 des objets self et listeObj\n",
        "            if (self.f2(0) >= listeObj.f1() ) and  (self.f2(1) >= listeObj.f1())  : # Teste si self Est Ecrasant et Majoritaire sinon\n",
        "              return True\n",
        "            else :\n",
        "              return False\n",
        "\n",
        "          elif len(self) == 1 and len(listeObj) == 2 :  # Les longueurs respectives 1 et 2 des objets self et listeObj\n",
        "            if (self.f1() >= listeObj.f2(0) ) and  (self.f1() >= listeObj.f2(1))  : # Teste si self Est Ecrasant et Majoritaire sinon\n",
        "              return True\n",
        "            else :\n",
        "              return False\n",
        "\n",
        "          elif len(self) == 1 and len(listeObj) == 1 : # 1 élément dans chaque objet\n",
        "            if (self.f1() >= listeObj.f1() )  : # Teste si self Est Ecrasant et Majoritaire sinon\n",
        "              return True\n",
        "            else :\n",
        "              return False\n",
        "          else :\n",
        "            return False\n",
        "\n",
        "        else :\n",
        "          return False\n",
        "\n",
        "def estPremier(nbre : int) -> bool :\n",
        "  return sum([1 if nbre%i == 0 else 0 for i in range(1,nbre+1) ] ) == 2\n",
        "\n",
        "def PremierSuivant(nbre : int) -> int:\n",
        "  \"\"\"Une fonction pour rechercher un nombre prémier\"\"\"\n",
        "  if estPremier(nbre): # On récupère le nombre s'il est un nombre premier.\n",
        "    return nbre\n",
        "  else : # sinon on incrémente le nombre jusqu'à ce qu'on trouve un nombre premier\n",
        "    while(estPremier(nbre) == False) :\n",
        "      nbre = nbre + 1\n",
        "    return nbre\n",
        "\n",
        "# liste de nombre prémier des objets écrasants majoritaires ou non\n",
        "def ListePremierStrict(ml_ext1: MaListe_Ext,ml_ext2 : MaListe_Ext):\n",
        "      \"\"\"Cette fonction ne va traiter que des cas d'objets minoritaires \"\"\"\n",
        "      if ml_ext1.estEcrasante() and ml_ext2.estEcrasante(): # On teste si les objets sont écrasants\n",
        "          if ml_ext1.estEcrasanteMajoritaire(ml_ext2):      # Si oui, sont-ils majoritaires ?\n",
        "            obj = ml_ext2                                   # ml_ext1 est majoritaire ml_ext2 est minoritaire\n",
        "          else:\n",
        "            obj = ml_ext1\n",
        "          # Dans tous les cas : obj est 'minoritaire' ici.\n",
        "          if len(obj) == 2 :                                 # On teste si obj est de longueur 2\n",
        "                ma_liste = ( Maliste([]),Maliste([]) )       # On crée ma_liste\n",
        "          elif len(obj) == 1 :                               # On teste si obj est de longueur 1\n",
        "                ma_liste = Maliste([])\n",
        "\n",
        "          try :\n",
        "            for nbrelt in range(len(obj) ):                  # Les variables nbrelt (longueurs des objets) et val (les elts des listes de liste)\n",
        "              for val in range(len(obj[nbrelt])):\n",
        "                ma_liste[nbrelt].inscrire(PremierSuivant(obj[nbrelt][val])) # Ajouter les nombres prémiers dans les listes des objets\n",
        "            return ma_liste\n",
        "          except IndexError :\n",
        "            ma_liste.inscrire(PremierSuivant(obj[0][0]))     # Le cas où l'objet contient 1 seul élément qui contient 1 seul élément\n",
        "            return ma_liste\n",
        "      else :\n",
        "          return None\n",
        "\n",
        "class MinoritairePremier :\n",
        "    def __init__(self, ml_ext1 : MaListe_Ext , ml_ext2 :MaListe_Ext):\n",
        "          self.ml_ext1 = ml_ext1\n",
        "          self.ml_ext2 = ml_ext2\n",
        "          self.resultat = 'MinoritairePremier{}'.format(ListePremierStrict(self.ml_ext1, self.ml_ext2))\n"
      ]
    },
    {
      "cell_type": "code",
      "source": [
        "d1 = MaListe_Ext(  Maliste([3, 8, 12, 8]) )   # Test avec la fonction f1\n",
        "d1.f1()"
      ],
      "metadata": {
        "colab": {
          "base_uri": "https://localhost:8080/"
        },
        "id": "wllhFf7VRWG3",
        "outputId": "c2fef827-6913-4d5d-9bd8-3b63b7a4574e"
      },
      "execution_count": 3,
      "outputs": [
        {
          "output_type": "execute_result",
          "data": {
            "text/plain": [
              "8"
            ]
          },
          "metadata": {},
          "execution_count": 3
        }
      ]
    },
    {
      "cell_type": "code",
      "source": [
        "d2 = MaListe_Ext(  Maliste([3, 8, 12, 8]), Maliste([4, 1, 3, 5]) )   # Test avec la fonction f2"
      ],
      "metadata": {
        "id": "1LlPCQOIqHSA"
      },
      "execution_count": 4,
      "outputs": []
    },
    {
      "cell_type": "code",
      "source": [
        "len(d2)"
      ],
      "metadata": {
        "colab": {
          "base_uri": "https://localhost:8080/"
        },
        "id": "yXU3PXdHrOc8",
        "outputId": "81fbb161-cd75-4543-8e92-29988c999e79"
      },
      "execution_count": 5,
      "outputs": [
        {
          "output_type": "execute_result",
          "data": {
            "text/plain": [
              "2"
            ]
          },
          "metadata": {},
          "execution_count": 5
        }
      ]
    },
    {
      "cell_type": "code",
      "source": [
        "d2[0]"
      ],
      "metadata": {
        "colab": {
          "base_uri": "https://localhost:8080/"
        },
        "id": "4_AVQvkDrt_7",
        "outputId": "15448899-c6d6-4c57-f14a-129cd518e69e"
      },
      "execution_count": 6,
      "outputs": [
        {
          "output_type": "execute_result",
          "data": {
            "text/plain": [
              "[3, 8, 12, 8]"
            ]
          },
          "metadata": {},
          "execution_count": 6
        }
      ]
    },
    {
      "cell_type": "code",
      "source": [],
      "metadata": {
        "id": "eoRgj84mrqyI"
      },
      "execution_count": 6,
      "outputs": []
    },
    {
      "cell_type": "code",
      "source": [
        "print(d2.f2(0));print(d2.f2(1)); print(d2[0]); print(d2[1])"
      ],
      "metadata": {
        "colab": {
          "base_uri": "https://localhost:8080/"
        },
        "id": "rpZrTOjsXkXs",
        "outputId": "9f2d3dd3-320f-4cfd-a6a4-a381fb91d8eb"
      },
      "execution_count": 7,
      "outputs": [
        {
          "output_type": "stream",
          "name": "stdout",
          "text": [
            "8\n",
            "5\n",
            "[3, 8, 12, 8]\n",
            "[4, 1, 3, 5]\n"
          ]
        }
      ]
    },
    {
      "cell_type": "code",
      "execution_count": 8,
      "metadata": {
        "id": "qkn9EUR818_W"
      },
      "outputs": [],
      "source": [
        "# Données\n",
        "liste1 = Maliste([3, 8, 12, 8]);liste2 = Maliste([3, 2, 11, 15]);liste3 = Maliste([9, 8]);liste4 = Maliste([85]); liste5 = Maliste([]); liste6 = Maliste([25])\n",
        "ml_ext1 = MaListe_Ext(liste1, liste2,liste3)\n",
        "ml_ext2 = MaListe_Ext(liste1, liste3)\n",
        "ml_ext3 = MaListe_Ext(liste3,liste5)\n",
        "ml_ext4 = MaListe_Ext(liste4)\n",
        "ml_ext5 = MaListe_Ext(liste4,liste6)"
      ]
    },
    {
      "cell_type": "code",
      "execution_count": 9,
      "metadata": {
        "colab": {
          "base_uri": "https://localhost:8080/"
        },
        "id": "fwlxeTJll6R1",
        "outputId": "5054df8d-dc73-40a1-8d55-b950a0212c81"
      },
      "outputs": [
        {
          "output_type": "stream",
          "name": "stdout",
          "text": [
            "MinoritairePremierNone\n"
          ]
        }
      ],
      "source": [
        "print(MinoritairePremier(ml_ext1, ml_ext2).resultat)"
      ]
    },
    {
      "cell_type": "code",
      "execution_count": 10,
      "metadata": {
        "colab": {
          "base_uri": "https://localhost:8080/",
          "height": 35
        },
        "id": "Gwb6Vfcgl64F",
        "outputId": "a6cdc4de-24cf-42fa-b47a-c2efb342adf2"
      },
      "outputs": [
        {
          "output_type": "execute_result",
          "data": {
            "text/plain": [
              "'MinoritairePremier[89]'"
            ],
            "application/vnd.google.colaboratory.intrinsic+json": {
              "type": "string"
            }
          },
          "metadata": {},
          "execution_count": 10
        }
      ],
      "source": [
        "MinoritairePremier(ml_ext4, ml_ext4).resultat"
      ]
    },
    {
      "cell_type": "code",
      "execution_count": 11,
      "metadata": {
        "colab": {
          "base_uri": "https://localhost:8080/"
        },
        "id": "_TklqyFbR1wm",
        "outputId": "e595aca5-db87-4e62-fcc4-18409d0a77c9"
      },
      "outputs": [
        {
          "output_type": "stream",
          "name": "stdout",
          "text": [
            "MinoritairePremier([3, 11, 13, 11], [11, 11])\n"
          ]
        }
      ],
      "source": [
        "print(MinoritairePremier(ml_ext2, ml_ext4).resultat)"
      ]
    },
    {
      "cell_type": "code",
      "execution_count": 12,
      "metadata": {
        "colab": {
          "base_uri": "https://localhost:8080/"
        },
        "id": "_gNCYQ1aOJrA",
        "outputId": "346ea06e-e7bc-461f-89f1-77637ca5a6d3"
      },
      "outputs": [
        {
          "output_type": "stream",
          "name": "stdout",
          "text": [
            "MinoritairePremier([3, 11, 13, 11], [11, 11])\n"
          ]
        }
      ],
      "source": [
        "print(MinoritairePremier(ml_ext4, ml_ext2).resultat)\n"
      ]
    },
    {
      "cell_type": "code",
      "execution_count": 13,
      "metadata": {
        "colab": {
          "base_uri": "https://localhost:8080/"
        },
        "id": "yVFtjMclXxsx",
        "outputId": "1519017e-c5e0-4ab7-bdd9-51c7fda5fc57"
      },
      "outputs": [
        {
          "output_type": "stream",
          "name": "stdout",
          "text": [
            "MinoritairePremier([3, 11, 13, 11], [11, 11])\n"
          ]
        }
      ],
      "source": [
        "print(MinoritairePremier(ml_ext5, ml_ext2).resultat)"
      ]
    },
    {
      "cell_type": "code",
      "execution_count": 14,
      "metadata": {
        "colab": {
          "base_uri": "https://localhost:8080/"
        },
        "id": "o0A5lDaGm82l",
        "outputId": "5baceba0-5a5c-4a24-dd8b-ac2e4b62f9b4"
      },
      "outputs": [
        {
          "output_type": "stream",
          "name": "stdout",
          "text": [
            "MinoritairePremier([89], [29])\n"
          ]
        }
      ],
      "source": [
        "print(MinoritairePremier(ml_ext4, ml_ext5).resultat)"
      ]
    },
    {
      "cell_type": "code",
      "execution_count": 15,
      "metadata": {
        "id": "252LFlhs8LFr"
      },
      "outputs": [],
      "source": [
        "liste1 = Maliste([3, 8, 12, 8]);liste2 = Maliste([3, 2, 11, 15]);liste3 = Maliste([9, 8]);liste4 = Maliste([85]); liste5 = Maliste([]); liste6 = Maliste([25])\n",
        "ml_ext1 = MaListe_Ext(liste1, liste2,liste3)\n",
        "ml_ext2 = MaListe_Ext(liste1, liste3)\n",
        "ml_ext3 = MaListe_Ext(liste3,liste5)\n",
        "ml_ext4 = MaListe_Ext(liste4)\n",
        "ml_ext5 = MaListe_Ext(liste4,liste6)"
      ]
    },
    {
      "cell_type": "code",
      "execution_count": 16,
      "metadata": {
        "colab": {
          "base_uri": "https://localhost:8080/"
        },
        "id": "CT_JfgkO-Emm",
        "outputId": "4cf0a014-ac37-4766-f65f-67bb27752a13"
      },
      "outputs": [
        {
          "output_type": "execute_result",
          "data": {
            "text/plain": [
              "False"
            ]
          },
          "metadata": {},
          "execution_count": 16
        }
      ],
      "source": [
        "ml_ext1.estEcrasanteMajoritaire( MaListe_Ext(liste1,liste2))  # ml_ext1 est minoritaire auprès de MaListe_Ext(liste1,liste2)\n",
        "# m_ext1 doit avoir une longueur égale à 2 au plus"
      ]
    },
    {
      "cell_type": "code",
      "execution_count": 17,
      "metadata": {
        "colab": {
          "base_uri": "https://localhost:8080/"
        },
        "id": "xEaC6Gx9vnz7",
        "outputId": "b843f631-6190-4a84-9a73-19215ddc3ca3"
      },
      "outputs": [
        {
          "output_type": "execute_result",
          "data": {
            "text/plain": [
              "False"
            ]
          },
          "metadata": {},
          "execution_count": 17
        }
      ],
      "source": [
        "ml_ext2.estEcrasanteMajoritaire( ml_ext3) # ml_ext2 est minoritaire auprès de ml_ext3"
      ]
    },
    {
      "cell_type": "code",
      "execution_count": 18,
      "metadata": {
        "colab": {
          "base_uri": "https://localhost:8080/"
        },
        "id": "tH87KHOlK9k0",
        "outputId": "3ccd01ae-c5a5-46a4-ba29-948a9cc66a15"
      },
      "outputs": [
        {
          "output_type": "execute_result",
          "data": {
            "text/plain": [
              "False"
            ]
          },
          "metadata": {},
          "execution_count": 18
        }
      ],
      "source": [
        "ml_ext3.estEcrasanteMajoritaire( ml_ext2) # ml_ext3 est minoritaire auprès de ml_ext2"
      ]
    },
    {
      "cell_type": "code",
      "execution_count": 19,
      "metadata": {
        "colab": {
          "base_uri": "https://localhost:8080/"
        },
        "id": "g6RUMBBNBEM_",
        "outputId": "d6bb0753-0676-460c-ef2f-4f0aa8d6291a"
      },
      "outputs": [
        {
          "output_type": "execute_result",
          "data": {
            "text/plain": [
              "True"
            ]
          },
          "metadata": {},
          "execution_count": 19
        }
      ],
      "source": [
        "ml_ext4.estEcrasanteMajoritaire( MaListe_Ext(liste2,liste3))  # ml_ext4 est majoritaire auprès de  MaListe_Ext(liste2,liste3)"
      ]
    },
    {
      "cell_type": "code",
      "execution_count": 20,
      "metadata": {
        "colab": {
          "base_uri": "https://localhost:8080/"
        },
        "id": "xvqTkly2JSGG",
        "outputId": "3e9a613c-32df-45a7-fa89-26b162197b0b"
      },
      "outputs": [
        {
          "output_type": "execute_result",
          "data": {
            "text/plain": [
              "False"
            ]
          },
          "metadata": {},
          "execution_count": 20
        }
      ],
      "source": [
        "MaListe_Ext(liste2,liste3).estEcrasanteMajoritaire(ml_ext4) # MaListe_Ext(liste2,liste3) est minoritaire auprès de ml_ext4\n"
      ]
    },
    {
      "cell_type": "code",
      "execution_count": 21,
      "metadata": {
        "id": "mBEUCZbyHTdy"
      },
      "outputs": [],
      "source": [
        "liste1 = Maliste([3, 8, 12, 8]);liste2 = Maliste([3, 2, 11, 15]);liste3 = Maliste([9, 8]);liste4 = Maliste([85]); liste5 = Maliste([])\n"
      ]
    },
    {
      "cell_type": "code",
      "execution_count": 22,
      "metadata": {
        "colab": {
          "base_uri": "https://localhost:8080/"
        },
        "id": "AbF0cRyA7tjb",
        "outputId": "bc17003c-4961-4845-d1c2-d1ac0d369d89"
      },
      "outputs": [
        {
          "output_type": "execute_result",
          "data": {
            "text/plain": [
              "[[3, 8, 12, 8], [3, 2, 11, 15], [9, 8]]"
            ]
          },
          "metadata": {},
          "execution_count": 22
        }
      ],
      "source": [
        "MaListe_Ext(liste1, liste2,liste3)"
      ]
    },
    {
      "cell_type": "code",
      "execution_count": 23,
      "metadata": {
        "colab": {
          "base_uri": "https://localhost:8080/"
        },
        "id": "nAMKLGNK8pjE",
        "outputId": "e7cd22a6-575b-42b3-e7a8-830d64d352a9"
      },
      "outputs": [
        {
          "output_type": "execute_result",
          "data": {
            "text/plain": [
              "False"
            ]
          },
          "metadata": {},
          "execution_count": 23
        }
      ],
      "source": [
        "import operator\n",
        "operator.methodcaller('estEcrasante')(MaListe_Ext(liste1, liste2,liste3))\n",
        "# on observe plus de 2 objets de type Maliste"
      ]
    },
    {
      "cell_type": "code",
      "execution_count": 24,
      "metadata": {
        "colab": {
          "base_uri": "https://localhost:8080/"
        },
        "id": "OUHStBTi684B",
        "outputId": "dc92ca35-b2c3-4bad-b1f3-6d25b54b20d5"
      },
      "outputs": [
        {
          "output_type": "execute_result",
          "data": {
            "text/plain": [
              "True"
            ]
          },
          "metadata": {},
          "execution_count": 24
        }
      ],
      "source": [
        "operator.methodcaller('estEcrasante')(MaListe_Ext(liste3))"
      ]
    },
    {
      "cell_type": "code",
      "execution_count": 25,
      "metadata": {
        "colab": {
          "base_uri": "https://localhost:8080/"
        },
        "id": "qR7UkrUt9T5d",
        "outputId": "741b0b78-1503-4df4-8297-99c297121a05"
      },
      "outputs": [
        {
          "output_type": "execute_result",
          "data": {
            "text/plain": [
              "True"
            ]
          },
          "metadata": {},
          "execution_count": 25
        }
      ],
      "source": [
        "operator.methodcaller('estEcrasante')(MaListe_Ext(liste1, liste2))\n",
        "# on a au moins deux objets de type Maliste qui ont le même nombre d'élements"
      ]
    },
    {
      "cell_type": "code",
      "execution_count": 26,
      "metadata": {
        "colab": {
          "base_uri": "https://localhost:8080/"
        },
        "id": "UVVkxrPG9b3x",
        "outputId": "d8fef172-6466-45f8-91cb-10c73abca130"
      },
      "outputs": [
        {
          "output_type": "execute_result",
          "data": {
            "text/plain": [
              "True"
            ]
          },
          "metadata": {},
          "execution_count": 26
        }
      ],
      "source": [
        "operator.methodcaller('estEcrasante')(MaListe_Ext(liste1,liste3))\n",
        "# On a bien deux objets de type Maliste"
      ]
    },
    {
      "cell_type": "code",
      "execution_count": 27,
      "metadata": {
        "colab": {
          "base_uri": "https://localhost:8080/"
        },
        "id": "Niew7aqV9ii_",
        "outputId": "80de099f-1499-4707-895f-3bdc779e4917"
      },
      "outputs": [
        {
          "output_type": "execute_result",
          "data": {
            "text/plain": [
              "False"
            ]
          },
          "metadata": {},
          "execution_count": 27
        }
      ],
      "source": [
        "operator.methodcaller('estEcrasante')(MaListe_Ext(liste3,liste3,liste1))\n",
        "#on a un trois objets du type Maliste, evidemment cet objet n'est pas ecrasant."
      ]
    },
    {
      "cell_type": "code",
      "execution_count": 28,
      "metadata": {
        "id": "JqVxvdaD7ZC8",
        "colab": {
          "base_uri": "https://localhost:8080/"
        },
        "outputId": "d516c1b1-fdde-4850-a6fb-ddba6c1bc4c0"
      },
      "outputs": [
        {
          "output_type": "execute_result",
          "data": {
            "text/plain": [
              "3"
            ]
          },
          "metadata": {},
          "execution_count": 28
        }
      ],
      "source": [
        "liste = Maliste([3, 8, 12, 8])\n",
        "listeAj = getattr(liste, 'lire')\n",
        "import operator\n",
        "operator.methodcaller('lire')(liste)"
      ]
    },
    {
      "cell_type": "code",
      "execution_count": 29,
      "metadata": {
        "id": "-VDyvnMtie_s"
      },
      "outputs": [],
      "source": [
        "l1 = Maliste([3,8,12]) # Liste l1 de 3 éléments"
      ]
    },
    {
      "cell_type": "code",
      "execution_count": 30,
      "metadata": {
        "id": "K92JcH0Yit7r"
      },
      "outputs": [],
      "source": [
        "l1.inscrire(8)          # Action de la méthode inscrire()"
      ]
    },
    {
      "cell_type": "code",
      "execution_count": 31,
      "metadata": {
        "colab": {
          "base_uri": "https://localhost:8080/"
        },
        "id": "PR6tMxVvlsmB",
        "outputId": "313ee18d-8d96-4d39-9a49-56167cff94c0"
      },
      "outputs": [
        {
          "output_type": "execute_result",
          "data": {
            "text/plain": [
              "[3, 8, 12, 8]"
            ]
          },
          "metadata": {},
          "execution_count": 31
        }
      ],
      "source": [
        "l1                      # La méthode inscrire() ajoute 8 comme nouvel élément de la liste à la queue"
      ]
    },
    {
      "cell_type": "markdown",
      "source": [
        "Appel d'une méthode comme une chaîne de caractère"
      ],
      "metadata": {
        "id": "3DrpOPOCt5G1"
      }
    },
    {
      "cell_type": "code",
      "execution_count": 32,
      "metadata": {
        "colab": {
          "base_uri": "https://localhost:8080/"
        },
        "id": "SoF0aeL4i1UL",
        "outputId": "1ea04934-310d-4509-e4a1-aa35afcfe155"
      },
      "outputs": [
        {
          "output_type": "execute_result",
          "data": {
            "text/plain": [
              "3"
            ]
          },
          "metadata": {},
          "execution_count": 32
        }
      ],
      "source": [
        "liste = Maliste([3, 8, 12, 8])\n",
        "listeAj = getattr(liste, 'lire')\n",
        "import operator\n",
        "operator.methodcaller('lire')(liste) # Le premier élément de la liste est renvoyée par defaut"
      ]
    },
    {
      "cell_type": "code",
      "execution_count": 33,
      "metadata": {
        "id": "LazMlF52y5r-"
      },
      "outputs": [],
      "source": [
        "operator.methodcaller('inscrire', 25)(liste) # Ajout de 25 à la queue"
      ]
    },
    {
      "cell_type": "code",
      "execution_count": 34,
      "metadata": {
        "colab": {
          "base_uri": "https://localhost:8080/"
        },
        "id": "9RGRYGxgzh3q",
        "outputId": "920b1b8e-ca1c-43a8-fae0-50df065ab065"
      },
      "outputs": [
        {
          "output_type": "execute_result",
          "data": {
            "text/plain": [
              "[3, 8, 12, 8, 25]"
            ]
          },
          "metadata": {},
          "execution_count": 34
        }
      ],
      "source": [
        "liste"
      ]
    },
    {
      "cell_type": "code",
      "execution_count": 35,
      "metadata": {
        "colab": {
          "base_uri": "https://localhost:8080/"
        },
        "id": "S04EkpKz2MbD",
        "outputId": "5267c3d0-a4d4-40b0-d466-a1ef93cf421d"
      },
      "outputs": [
        {
          "output_type": "execute_result",
          "data": {
            "text/plain": [
              "12"
            ]
          },
          "metadata": {},
          "execution_count": 35
        }
      ],
      "source": [
        "operator.methodcaller('extraire', 2)(liste) # Suppression de l'élément qui se trouve à la 2e position"
      ]
    },
    {
      "cell_type": "code",
      "execution_count": 36,
      "metadata": {
        "colab": {
          "base_uri": "https://localhost:8080/"
        },
        "id": "J0S63YRO2Zgj",
        "outputId": "df8242b8-03c4-4c8b-b63b-d2b90b75a327"
      },
      "outputs": [
        {
          "output_type": "execute_result",
          "data": {
            "text/plain": [
              "[3, 8, 8, 25]"
            ]
          },
          "metadata": {},
          "execution_count": 36
        }
      ],
      "source": [
        "liste"
      ]
    }
  ],
  "metadata": {
    "colab": {
      "provenance": [],
      "authorship_tag": "ABX9TyO04AFXGoUyHAA70BovYl+H",
      "include_colab_link": true
    },
    "kernelspec": {
      "display_name": "Python 3",
      "name": "python3"
    },
    "language_info": {
      "name": "python"
    }
  },
  "nbformat": 4,
  "nbformat_minor": 0
}